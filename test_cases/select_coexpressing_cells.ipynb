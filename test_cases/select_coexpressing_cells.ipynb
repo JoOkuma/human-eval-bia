{
 "cells": [
  {
   "cell_type": "code",
   "execution_count": 1,
   "id": "6d51b7a1-93fc-469d-b9bd-529d42fc4f6b",
   "metadata": {},
   "outputs": [],
   "source": [
    "def select_coexpressing_cells(image, labels, threshold):\n",
    "    \"\"\"\n",
    "    Selects and returns the subset of cell segments from labels (HxW)\n",
    "    that co expresses the total intensity of all channels above a\n",
    "    certain threshold given an input image (HxWxC)\n",
    "    \"\"\"\n",
    "    import numpy as np\n",
    "    import pandas as pd\n",
    "    from skimage.measure import regionprops_table\n",
    "\n",
    "    df = pd.DataFrame(\n",
    "        regionprops_table(labels, image, properties=(\"label\", \"area\", \"intensity_mean\"))\n",
    "    )\n",
    "    mean_cols = [c for c in df.columns if c.startswith(\"intensity_mean\")]\n",
    "    sum_cols = [f\"intensity_sum-{i}\" for i in range(len(mean_cols))]\n",
    "    \n",
    "    df[sum_cols] = df[mean_cols] * df[\"area\"].to_numpy()\n",
    "    \n",
    "    selected_ids = df.loc[(df[sum_cols] > threshold).all(axis=1), \"label\"].to_numpy()\n",
    "    \n",
    "    below_threshold_mask = np.isin(labels, selected_ids, invert=False)\n",
    "    filtered_labels = labels * below_threshold_mask\n",
    "\n",
    "    return filtered_labels"
   ]
  },
  {
   "cell_type": "code",
   "execution_count": 2,
   "id": "1bbb1ced-3949-4836-9700-b8563a676927",
   "metadata": {},
   "outputs": [],
   "source": [
    "def check(candidate):\n",
    "    import numpy as np\n",
    "\n",
    "    labels = np.asarray([[0, 1, 1],\n",
    "                         [2, 2, 3],\n",
    "                         [0, 0, 3]])\n",
    "\n",
    "    image = np.asarray([[[0, 0, 0], [5, 2, 6], [5, 2, 4]],\n",
    "                        [[10,5, 3], [0, 5, 7], [1, 4, 4]],\n",
    "                        [[0, 0, 0], [0, 0, 0], [4, 4, 4]]])\n",
    "\n",
    "    expected_labels = np.asarray([[0, 0, 0],\n",
    "                                  [2, 2, 0],\n",
    "                                  [0, 0, 0]])\n",
    "\n",
    "    results = candidate(image, labels, 7)\n",
    "\n",
    "    np.testing.assert_equal(expected_labels, results)"
   ]
  },
  {
   "cell_type": "code",
   "execution_count": 3,
   "id": "e08f95a4-0f4a-4ed9-9edb-c5ee19155746",
   "metadata": {},
   "outputs": [],
   "source": [
    "check(select_coexpressing_cells)"
   ]
  }
 ],
 "metadata": {
  "kernelspec": {
   "display_name": "Python 3 (ipykernel)",
   "language": "python",
   "name": "python3"
  },
  "language_info": {
   "codemirror_mode": {
    "name": "ipython",
    "version": 3
   },
   "file_extension": ".py",
   "mimetype": "text/x-python",
   "name": "python",
   "nbconvert_exporter": "python",
   "pygments_lexer": "ipython3",
   "version": "3.10.12"
  }
 },
 "nbformat": 4,
 "nbformat_minor": 5
}
